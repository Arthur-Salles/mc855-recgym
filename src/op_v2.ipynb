{
 "cells": [
  {
   "cell_type": "markdown",
   "id": "2c95df66",
   "metadata": {},
   "source": [
    "Ordinal Patterns implementation"
   ]
  },
  {
   "cell_type": "code",
   "execution_count": 1,
   "id": "4dc1a593",
   "metadata": {},
   "outputs": [],
   "source": [
    "import numpy as np\n",
    "import pandas as pd \n",
    "import ordpy as ord\n",
    "import os\n",
    "import math\n",
    "import itertools\n",
    "import matplotlib.pyplot as plt"
   ]
  },
  {
   "cell_type": "code",
   "execution_count": 2,
   "id": "d00efd12",
   "metadata": {},
   "outputs": [],
   "source": [
    "def recover_data_from_df(csv_path= \"../data/processed/final/train_val_test\", filter= False):\n",
    "\n",
    "    data_splits = {t.split('.')[0] : t for t in os.listdir(csv_path)}\n",
    "    final_data = {key : [] for key in data_splits}\n",
    "    final_targets = {key : [] for key in data_splits}\n",
    "    final_names = {key : [] for key in data_splits}\n",
    "\n",
    "\n",
    "    for dt, dpath in data_splits.items(): \n",
    "        final_path = os.path.join(csv_path, dpath)\n",
    "\n",
    "        for sample, df in pd.read_csv(final_path).groupby('sample'):\n",
    "            \n",
    "            label = df['label'].iloc[0]\n",
    "            workout = df['Workout'].iloc[0]\n",
    "            df.drop(columns=['sample', 'label', 'Workout'], inplace=True)\n",
    "\n",
    "            apn_obj = df.T.values\n",
    "\n",
    "            final_data[dt].append(apn_obj)\n",
    "            final_targets[dt].append(label)\n",
    "            final_names[dt].append(workout)\n",
    "\n",
    "\n",
    "        final_targets[dt] = np.array(final_targets[dt])\n",
    "\n",
    "    return final_data, final_targets, final_names\n",
    "\n",
    "ft, fy, fn = recover_data_from_df()"
   ]
  },
  {
   "cell_type": "code",
   "execution_count": 15,
   "id": "4920d5c7",
   "metadata": {},
   "outputs": [
    {
     "data": {
      "text/plain": [
       "<BarContainer object of 24 artists>"
      ]
     },
     "execution_count": 15,
     "metadata": {},
     "output_type": "execute_result"
    },
    {
     "data": {
      "image/png": "[encoded data removed]",
      "text/plain": [
       "<Figure size 640x480 with 1 Axes>"
      ]
     },
     "metadata": {},
     "output_type": "display_data"
    }
   ],
   "source": [
    "x = ft['train_data'][0] # uma unica amostra da serie, nao tem como fazer com todas\n",
    " \n",
    "\n",
    "def get_op_from_ts(x, dx, dy=1, taux=10):\n",
    "    \n",
    "    \"\"\"\n",
    "    Applies the Bandt and Pompe symbolization approach to obtain \n",
    "    a probability distribution of ordinal patterns (permutations) from data, adapted from ordpy.\n",
    "    \n",
    "    Parameters\n",
    "    ----------\n",
    "    data : array \n",
    "           Array object in the shape (channels, len)\n",
    "    dx : int\n",
    "         Embedding dimension (horizontal axis) (default: 3).\n",
    "    dy : int\n",
    "         Embedding dimension (vertical axis); it must be 1 for time series \n",
    "         (default: 1).\n",
    "    taux : int\n",
    "           Embedding delay (horizontal axis) (default: 1).\n",
    "    tauy : int\n",
    "           Embedding delay (vertical axis) (default: 1).\n",
    "\n",
    "    \"\"\"\n",
    "\n",
    "    symbols = ord.ordinal_sequence(x, dx=dx, dy= dy, taux=taux)\n",
    "\n",
    "    if np.shape(symbols).__len__() == 3:\n",
    "        symbols = symbols.reshape(-1, dx*dy) \n",
    "    else:\n",
    "        pass\n",
    "    \n",
    "    all_symbols           = np.asarray(list(itertools.permutations(range(dx*dy))), dtype='int')\n",
    "    symbols, symbols_count = np.unique(symbols, return_counts=True, axis=0)\n",
    "    probabilities          = symbols_count/symbols_count.sum()\n",
    "\n",
    "    all_symbols_str       = np.apply_along_axis(np.char.strip, 0, \n",
    "                                                np.apply_along_axis(np.array2string, 1, all_symbols, separator=''),\n",
    "                                                chars=\"[]\")\n",
    "\n",
    "    if len(probabilities)==math.factorial(dx*dy):\n",
    "        return dict(zip(all_symbols_str, probabilities))\n",
    "    \n",
    "\n",
    "    all_probs             = np.full(math.factorial(dx*dy), 0.)\n",
    "    dict_probs = dict(zip(all_symbols_str, all_probs))\n",
    "\n",
    "    for symbol, probability in zip(all_symbols_str, probabilities):\n",
    "        dict_probs[symbol] = probability\n",
    "    \n",
    "    return dict_probs\n",
    "\n",
    "dprob = get_op_from_ts(x, 4, 1)\n",
    "\n",
    "plt.bar(range(len(dprob)), dprob.values())\n"
   ]
  }
 ],
 "metadata": {
  "kernelspec": {
   "display_name": "base",
   "language": "python",
   "name": "python3"
  },
  "language_info": {
   "codemirror_mode": {
    "name": "ipython",
    "version": 3
   },
   "file_extension": ".py",
   "mimetype": "text/x-python",
   "name": "python",
   "nbconvert_exporter": "python",
   "pygments_lexer": "ipython3",
   "version": "3.12.2"
  }
 },
 "nbformat": 4,
 "nbformat_minor": 5
}
